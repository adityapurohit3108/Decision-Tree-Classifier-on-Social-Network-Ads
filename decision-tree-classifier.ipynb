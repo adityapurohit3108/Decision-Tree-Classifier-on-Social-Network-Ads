{
 "cells": [
  {
   "cell_type": "code",
   "execution_count": 1,
   "id": "70f0e984",
   "metadata": {
    "execution": {
     "iopub.execute_input": "2023-01-07T16:14:43.285118Z",
     "iopub.status.busy": "2023-01-07T16:14:43.284598Z",
     "iopub.status.idle": "2023-01-07T16:14:43.297516Z",
     "shell.execute_reply": "2023-01-07T16:14:43.296519Z"
    },
    "id": "iRsqAuWirlAl",
    "papermill": {
     "duration": 0.024915,
     "end_time": "2023-01-07T16:14:43.300044",
     "exception": false,
     "start_time": "2023-01-07T16:14:43.275129",
     "status": "completed"
    },
    "tags": []
   },
   "outputs": [],
   "source": [
    "import pandas as pd"
   ]
  },
  {
   "cell_type": "code",
   "execution_count": 2,
   "id": "a067dda7",
   "metadata": {
    "execution": {
     "iopub.execute_input": "2023-01-07T16:14:43.314142Z",
     "iopub.status.busy": "2023-01-07T16:14:43.313589Z",
     "iopub.status.idle": "2023-01-07T16:14:43.337722Z",
     "shell.execute_reply": "2023-01-07T16:14:43.336318Z"
    },
    "id": "Yciae5EGrtWG",
    "papermill": {
     "duration": 0.034069,
     "end_time": "2023-01-07T16:14:43.340262",
     "exception": false,
     "start_time": "2023-01-07T16:14:43.306193",
     "status": "completed"
    },
    "tags": []
   },
   "outputs": [],
   "source": [
    "dataset = pd.read_csv('/kaggle/input/social-network-ads/Social_Network_Ads.csv')"
   ]
  },
  {
   "cell_type": "code",
   "execution_count": 3,
   "id": "a258cdb6",
   "metadata": {
    "execution": {
     "iopub.execute_input": "2023-01-07T16:14:43.354320Z",
     "iopub.status.busy": "2023-01-07T16:14:43.353936Z",
     "iopub.status.idle": "2023-01-07T16:14:43.376522Z",
     "shell.execute_reply": "2023-01-07T16:14:43.375190Z"
    },
    "id": "t-o1Vt9ar-ZF",
    "outputId": "4e7c346b-5a62-4476-fb8a-0d44cf80fd0d",
    "papermill": {
     "duration": 0.032605,
     "end_time": "2023-01-07T16:14:43.378826",
     "exception": false,
     "start_time": "2023-01-07T16:14:43.346221",
     "status": "completed"
    },
    "tags": []
   },
   "outputs": [
    {
     "data": {
      "text/html": [
       "<div>\n",
       "<style scoped>\n",
       "    .dataframe tbody tr th:only-of-type {\n",
       "        vertical-align: middle;\n",
       "    }\n",
       "\n",
       "    .dataframe tbody tr th {\n",
       "        vertical-align: top;\n",
       "    }\n",
       "\n",
       "    .dataframe thead th {\n",
       "        text-align: right;\n",
       "    }\n",
       "</style>\n",
       "<table border=\"1\" class=\"dataframe\">\n",
       "  <thead>\n",
       "    <tr style=\"text-align: right;\">\n",
       "      <th></th>\n",
       "      <th>Age</th>\n",
       "      <th>EstimatedSalary</th>\n",
       "      <th>Purchased</th>\n",
       "    </tr>\n",
       "  </thead>\n",
       "  <tbody>\n",
       "    <tr>\n",
       "      <th>0</th>\n",
       "      <td>19</td>\n",
       "      <td>19000</td>\n",
       "      <td>0</td>\n",
       "    </tr>\n",
       "    <tr>\n",
       "      <th>1</th>\n",
       "      <td>35</td>\n",
       "      <td>20000</td>\n",
       "      <td>0</td>\n",
       "    </tr>\n",
       "    <tr>\n",
       "      <th>2</th>\n",
       "      <td>26</td>\n",
       "      <td>43000</td>\n",
       "      <td>0</td>\n",
       "    </tr>\n",
       "    <tr>\n",
       "      <th>3</th>\n",
       "      <td>27</td>\n",
       "      <td>57000</td>\n",
       "      <td>0</td>\n",
       "    </tr>\n",
       "    <tr>\n",
       "      <th>4</th>\n",
       "      <td>19</td>\n",
       "      <td>76000</td>\n",
       "      <td>0</td>\n",
       "    </tr>\n",
       "    <tr>\n",
       "      <th>...</th>\n",
       "      <td>...</td>\n",
       "      <td>...</td>\n",
       "      <td>...</td>\n",
       "    </tr>\n",
       "    <tr>\n",
       "      <th>395</th>\n",
       "      <td>46</td>\n",
       "      <td>41000</td>\n",
       "      <td>1</td>\n",
       "    </tr>\n",
       "    <tr>\n",
       "      <th>396</th>\n",
       "      <td>51</td>\n",
       "      <td>23000</td>\n",
       "      <td>1</td>\n",
       "    </tr>\n",
       "    <tr>\n",
       "      <th>397</th>\n",
       "      <td>50</td>\n",
       "      <td>20000</td>\n",
       "      <td>1</td>\n",
       "    </tr>\n",
       "    <tr>\n",
       "      <th>398</th>\n",
       "      <td>36</td>\n",
       "      <td>33000</td>\n",
       "      <td>0</td>\n",
       "    </tr>\n",
       "    <tr>\n",
       "      <th>399</th>\n",
       "      <td>49</td>\n",
       "      <td>36000</td>\n",
       "      <td>1</td>\n",
       "    </tr>\n",
       "  </tbody>\n",
       "</table>\n",
       "<p>400 rows × 3 columns</p>\n",
       "</div>"
      ],
      "text/plain": [
       "     Age  EstimatedSalary  Purchased\n",
       "0     19            19000          0\n",
       "1     35            20000          0\n",
       "2     26            43000          0\n",
       "3     27            57000          0\n",
       "4     19            76000          0\n",
       "..   ...              ...        ...\n",
       "395   46            41000          1\n",
       "396   51            23000          1\n",
       "397   50            20000          1\n",
       "398   36            33000          0\n",
       "399   49            36000          1\n",
       "\n",
       "[400 rows x 3 columns]"
      ]
     },
     "execution_count": 3,
     "metadata": {},
     "output_type": "execute_result"
    }
   ],
   "source": [
    "dataset"
   ]
  },
  {
   "cell_type": "code",
   "execution_count": 4,
   "id": "c4d0f883",
   "metadata": {
    "execution": {
     "iopub.execute_input": "2023-01-07T16:14:43.393905Z",
     "iopub.status.busy": "2023-01-07T16:14:43.392907Z",
     "iopub.status.idle": "2023-01-07T16:14:43.400403Z",
     "shell.execute_reply": "2023-01-07T16:14:43.399226Z"
    },
    "id": "dVpu3GFQsA7G",
    "papermill": {
     "duration": 0.017556,
     "end_time": "2023-01-07T16:14:43.402969",
     "exception": false,
     "start_time": "2023-01-07T16:14:43.385413",
     "status": "completed"
    },
    "tags": []
   },
   "outputs": [],
   "source": [
    "X = dataset.iloc [:,[0,1]].values"
   ]
  },
  {
   "cell_type": "code",
   "execution_count": 5,
   "id": "36263181",
   "metadata": {
    "execution": {
     "iopub.execute_input": "2023-01-07T16:14:43.419310Z",
     "iopub.status.busy": "2023-01-07T16:14:43.418926Z",
     "iopub.status.idle": "2023-01-07T16:14:43.424119Z",
     "shell.execute_reply": "2023-01-07T16:14:43.422928Z"
    },
    "id": "TBZSqtWUsS6Y",
    "papermill": {
     "duration": 0.016082,
     "end_time": "2023-01-07T16:14:43.426291",
     "exception": false,
     "start_time": "2023-01-07T16:14:43.410209",
     "status": "completed"
    },
    "tags": []
   },
   "outputs": [],
   "source": [
    "Y = dataset.iloc [:,2].values"
   ]
  },
  {
   "cell_type": "code",
   "execution_count": 6,
   "id": "77345316",
   "metadata": {
    "execution": {
     "iopub.execute_input": "2023-01-07T16:14:43.441298Z",
     "iopub.status.busy": "2023-01-07T16:14:43.440772Z",
     "iopub.status.idle": "2023-01-07T16:14:43.455934Z",
     "shell.execute_reply": "2023-01-07T16:14:43.454538Z"
    },
    "id": "wqOuUmBxsftn",
    "outputId": "80b80477-ca20-4b0b-b09b-664e0c4ec096",
    "papermill": {
     "duration": 0.025421,
     "end_time": "2023-01-07T16:14:43.458376",
     "exception": false,
     "start_time": "2023-01-07T16:14:43.432955",
     "status": "completed"
    },
    "tags": []
   },
   "outputs": [
    {
     "data": {
      "text/plain": [
       "(array([[    19,  19000],\n",
       "        [    35,  20000],\n",
       "        [    26,  43000],\n",
       "        [    27,  57000],\n",
       "        [    19,  76000],\n",
       "        [    27,  58000],\n",
       "        [    27,  84000],\n",
       "        [    32, 150000],\n",
       "        [    25,  33000],\n",
       "        [    35,  65000],\n",
       "        [    26,  80000],\n",
       "        [    26,  52000],\n",
       "        [    20,  86000],\n",
       "        [    32,  18000],\n",
       "        [    18,  82000],\n",
       "        [    29,  80000],\n",
       "        [    47,  25000],\n",
       "        [    45,  26000],\n",
       "        [    46,  28000],\n",
       "        [    48,  29000],\n",
       "        [    45,  22000],\n",
       "        [    47,  49000],\n",
       "        [    48,  41000],\n",
       "        [    45,  22000],\n",
       "        [    46,  23000],\n",
       "        [    47,  20000],\n",
       "        [    49,  28000],\n",
       "        [    47,  30000],\n",
       "        [    29,  43000],\n",
       "        [    31,  18000],\n",
       "        [    31,  74000],\n",
       "        [    27, 137000],\n",
       "        [    21,  16000],\n",
       "        [    28,  44000],\n",
       "        [    27,  90000],\n",
       "        [    35,  27000],\n",
       "        [    33,  28000],\n",
       "        [    30,  49000],\n",
       "        [    26,  72000],\n",
       "        [    27,  31000],\n",
       "        [    27,  17000],\n",
       "        [    33,  51000],\n",
       "        [    35, 108000],\n",
       "        [    30,  15000],\n",
       "        [    28,  84000],\n",
       "        [    23,  20000],\n",
       "        [    25,  79000],\n",
       "        [    27,  54000],\n",
       "        [    30, 135000],\n",
       "        [    31,  89000],\n",
       "        [    24,  32000],\n",
       "        [    18,  44000],\n",
       "        [    29,  83000],\n",
       "        [    35,  23000],\n",
       "        [    27,  58000],\n",
       "        [    24,  55000],\n",
       "        [    23,  48000],\n",
       "        [    28,  79000],\n",
       "        [    22,  18000],\n",
       "        [    32, 117000],\n",
       "        [    27,  20000],\n",
       "        [    25,  87000],\n",
       "        [    23,  66000],\n",
       "        [    32, 120000],\n",
       "        [    59,  83000],\n",
       "        [    24,  58000],\n",
       "        [    24,  19000],\n",
       "        [    23,  82000],\n",
       "        [    22,  63000],\n",
       "        [    31,  68000],\n",
       "        [    25,  80000],\n",
       "        [    24,  27000],\n",
       "        [    20,  23000],\n",
       "        [    33, 113000],\n",
       "        [    32,  18000],\n",
       "        [    34, 112000],\n",
       "        [    18,  52000],\n",
       "        [    22,  27000],\n",
       "        [    28,  87000],\n",
       "        [    26,  17000],\n",
       "        [    30,  80000],\n",
       "        [    39,  42000],\n",
       "        [    20,  49000],\n",
       "        [    35,  88000],\n",
       "        [    30,  62000],\n",
       "        [    31, 118000],\n",
       "        [    24,  55000],\n",
       "        [    28,  85000],\n",
       "        [    26,  81000],\n",
       "        [    35,  50000],\n",
       "        [    22,  81000],\n",
       "        [    30, 116000],\n",
       "        [    26,  15000],\n",
       "        [    29,  28000],\n",
       "        [    29,  83000],\n",
       "        [    35,  44000],\n",
       "        [    35,  25000],\n",
       "        [    28, 123000],\n",
       "        [    35,  73000],\n",
       "        [    28,  37000],\n",
       "        [    27,  88000],\n",
       "        [    28,  59000],\n",
       "        [    32,  86000],\n",
       "        [    33, 149000],\n",
       "        [    19,  21000],\n",
       "        [    21,  72000],\n",
       "        [    26,  35000],\n",
       "        [    27,  89000],\n",
       "        [    26,  86000],\n",
       "        [    38,  80000],\n",
       "        [    39,  71000],\n",
       "        [    37,  71000],\n",
       "        [    38,  61000],\n",
       "        [    37,  55000],\n",
       "        [    42,  80000],\n",
       "        [    40,  57000],\n",
       "        [    35,  75000],\n",
       "        [    36,  52000],\n",
       "        [    40,  59000],\n",
       "        [    41,  59000],\n",
       "        [    36,  75000],\n",
       "        [    37,  72000],\n",
       "        [    40,  75000],\n",
       "        [    35,  53000],\n",
       "        [    41,  51000],\n",
       "        [    39,  61000],\n",
       "        [    42,  65000],\n",
       "        [    26,  32000],\n",
       "        [    30,  17000],\n",
       "        [    26,  84000],\n",
       "        [    31,  58000],\n",
       "        [    33,  31000],\n",
       "        [    30,  87000],\n",
       "        [    21,  68000],\n",
       "        [    28,  55000],\n",
       "        [    23,  63000],\n",
       "        [    20,  82000],\n",
       "        [    30, 107000],\n",
       "        [    28,  59000],\n",
       "        [    19,  25000],\n",
       "        [    19,  85000],\n",
       "        [    18,  68000],\n",
       "        [    35,  59000],\n",
       "        [    30,  89000],\n",
       "        [    34,  25000],\n",
       "        [    24,  89000],\n",
       "        [    27,  96000],\n",
       "        [    41,  30000],\n",
       "        [    29,  61000],\n",
       "        [    20,  74000],\n",
       "        [    26,  15000],\n",
       "        [    41,  45000],\n",
       "        [    31,  76000],\n",
       "        [    36,  50000],\n",
       "        [    40,  47000],\n",
       "        [    31,  15000],\n",
       "        [    46,  59000],\n",
       "        [    29,  75000],\n",
       "        [    26,  30000],\n",
       "        [    32, 135000],\n",
       "        [    32, 100000],\n",
       "        [    25,  90000],\n",
       "        [    37,  33000],\n",
       "        [    35,  38000],\n",
       "        [    33,  69000],\n",
       "        [    18,  86000],\n",
       "        [    22,  55000],\n",
       "        [    35,  71000],\n",
       "        [    29, 148000],\n",
       "        [    29,  47000],\n",
       "        [    21,  88000],\n",
       "        [    34, 115000],\n",
       "        [    26, 118000],\n",
       "        [    34,  43000],\n",
       "        [    34,  72000],\n",
       "        [    23,  28000],\n",
       "        [    35,  47000],\n",
       "        [    25,  22000],\n",
       "        [    24,  23000],\n",
       "        [    31,  34000],\n",
       "        [    26,  16000],\n",
       "        [    31,  71000],\n",
       "        [    32, 117000],\n",
       "        [    33,  43000],\n",
       "        [    33,  60000],\n",
       "        [    31,  66000],\n",
       "        [    20,  82000],\n",
       "        [    33,  41000],\n",
       "        [    35,  72000],\n",
       "        [    28,  32000],\n",
       "        [    24,  84000],\n",
       "        [    19,  26000],\n",
       "        [    29,  43000],\n",
       "        [    19,  70000],\n",
       "        [    28,  89000],\n",
       "        [    34,  43000],\n",
       "        [    30,  79000],\n",
       "        [    20,  36000],\n",
       "        [    26,  80000],\n",
       "        [    35,  22000],\n",
       "        [    35,  39000],\n",
       "        [    49,  74000],\n",
       "        [    39, 134000],\n",
       "        [    41,  71000],\n",
       "        [    58, 101000],\n",
       "        [    47,  47000],\n",
       "        [    55, 130000],\n",
       "        [    52, 114000],\n",
       "        [    40, 142000],\n",
       "        [    46,  22000],\n",
       "        [    48,  96000],\n",
       "        [    52, 150000],\n",
       "        [    59,  42000],\n",
       "        [    35,  58000],\n",
       "        [    47,  43000],\n",
       "        [    60, 108000],\n",
       "        [    49,  65000],\n",
       "        [    40,  78000],\n",
       "        [    46,  96000],\n",
       "        [    59, 143000],\n",
       "        [    41,  80000],\n",
       "        [    35,  91000],\n",
       "        [    37, 144000],\n",
       "        [    60, 102000],\n",
       "        [    35,  60000],\n",
       "        [    37,  53000],\n",
       "        [    36, 126000],\n",
       "        [    56, 133000],\n",
       "        [    40,  72000],\n",
       "        [    42,  80000],\n",
       "        [    35, 147000],\n",
       "        [    39,  42000],\n",
       "        [    40, 107000],\n",
       "        [    49,  86000],\n",
       "        [    38, 112000],\n",
       "        [    46,  79000],\n",
       "        [    40,  57000],\n",
       "        [    37,  80000],\n",
       "        [    46,  82000],\n",
       "        [    53, 143000],\n",
       "        [    42, 149000],\n",
       "        [    38,  59000],\n",
       "        [    50,  88000],\n",
       "        [    56, 104000],\n",
       "        [    41,  72000],\n",
       "        [    51, 146000],\n",
       "        [    35,  50000],\n",
       "        [    57, 122000],\n",
       "        [    41,  52000],\n",
       "        [    35,  97000],\n",
       "        [    44,  39000],\n",
       "        [    37,  52000],\n",
       "        [    48, 134000],\n",
       "        [    37, 146000],\n",
       "        [    50,  44000],\n",
       "        [    52,  90000],\n",
       "        [    41,  72000],\n",
       "        [    40,  57000],\n",
       "        [    58,  95000],\n",
       "        [    45, 131000],\n",
       "        [    35,  77000],\n",
       "        [    36, 144000],\n",
       "        [    55, 125000],\n",
       "        [    35,  72000],\n",
       "        [    48,  90000],\n",
       "        [    42, 108000],\n",
       "        [    40,  75000],\n",
       "        [    37,  74000],\n",
       "        [    47, 144000],\n",
       "        [    40,  61000],\n",
       "        [    43, 133000],\n",
       "        [    59,  76000],\n",
       "        [    60,  42000],\n",
       "        [    39, 106000],\n",
       "        [    57,  26000],\n",
       "        [    57,  74000],\n",
       "        [    38,  71000],\n",
       "        [    49,  88000],\n",
       "        [    52,  38000],\n",
       "        [    50,  36000],\n",
       "        [    59,  88000],\n",
       "        [    35,  61000],\n",
       "        [    37,  70000],\n",
       "        [    52,  21000],\n",
       "        [    48, 141000],\n",
       "        [    37,  93000],\n",
       "        [    37,  62000],\n",
       "        [    48, 138000],\n",
       "        [    41,  79000],\n",
       "        [    37,  78000],\n",
       "        [    39, 134000],\n",
       "        [    49,  89000],\n",
       "        [    55,  39000],\n",
       "        [    37,  77000],\n",
       "        [    35,  57000],\n",
       "        [    36,  63000],\n",
       "        [    42,  73000],\n",
       "        [    43, 112000],\n",
       "        [    45,  79000],\n",
       "        [    46, 117000],\n",
       "        [    58,  38000],\n",
       "        [    48,  74000],\n",
       "        [    37, 137000],\n",
       "        [    37,  79000],\n",
       "        [    40,  60000],\n",
       "        [    42,  54000],\n",
       "        [    51, 134000],\n",
       "        [    47, 113000],\n",
       "        [    36, 125000],\n",
       "        [    38,  50000],\n",
       "        [    42,  70000],\n",
       "        [    39,  96000],\n",
       "        [    38,  50000],\n",
       "        [    49, 141000],\n",
       "        [    39,  79000],\n",
       "        [    39,  75000],\n",
       "        [    54, 104000],\n",
       "        [    35,  55000],\n",
       "        [    45,  32000],\n",
       "        [    36,  60000],\n",
       "        [    52, 138000],\n",
       "        [    53,  82000],\n",
       "        [    41,  52000],\n",
       "        [    48,  30000],\n",
       "        [    48, 131000],\n",
       "        [    41,  60000],\n",
       "        [    41,  72000],\n",
       "        [    42,  75000],\n",
       "        [    36, 118000],\n",
       "        [    47, 107000],\n",
       "        [    38,  51000],\n",
       "        [    48, 119000],\n",
       "        [    42,  65000],\n",
       "        [    40,  65000],\n",
       "        [    57,  60000],\n",
       "        [    36,  54000],\n",
       "        [    58, 144000],\n",
       "        [    35,  79000],\n",
       "        [    38,  55000],\n",
       "        [    39, 122000],\n",
       "        [    53, 104000],\n",
       "        [    35,  75000],\n",
       "        [    38,  65000],\n",
       "        [    47,  51000],\n",
       "        [    47, 105000],\n",
       "        [    41,  63000],\n",
       "        [    53,  72000],\n",
       "        [    54, 108000],\n",
       "        [    39,  77000],\n",
       "        [    38,  61000],\n",
       "        [    38, 113000],\n",
       "        [    37,  75000],\n",
       "        [    42,  90000],\n",
       "        [    37,  57000],\n",
       "        [    36,  99000],\n",
       "        [    60,  34000],\n",
       "        [    54,  70000],\n",
       "        [    41,  72000],\n",
       "        [    40,  71000],\n",
       "        [    42,  54000],\n",
       "        [    43, 129000],\n",
       "        [    53,  34000],\n",
       "        [    47,  50000],\n",
       "        [    42,  79000],\n",
       "        [    42, 104000],\n",
       "        [    59,  29000],\n",
       "        [    58,  47000],\n",
       "        [    46,  88000],\n",
       "        [    38,  71000],\n",
       "        [    54,  26000],\n",
       "        [    60,  46000],\n",
       "        [    60,  83000],\n",
       "        [    39,  73000],\n",
       "        [    59, 130000],\n",
       "        [    37,  80000],\n",
       "        [    46,  32000],\n",
       "        [    46,  74000],\n",
       "        [    42,  53000],\n",
       "        [    41,  87000],\n",
       "        [    58,  23000],\n",
       "        [    42,  64000],\n",
       "        [    48,  33000],\n",
       "        [    44, 139000],\n",
       "        [    49,  28000],\n",
       "        [    57,  33000],\n",
       "        [    56,  60000],\n",
       "        [    49,  39000],\n",
       "        [    39,  71000],\n",
       "        [    47,  34000],\n",
       "        [    48,  35000],\n",
       "        [    48,  33000],\n",
       "        [    47,  23000],\n",
       "        [    45,  45000],\n",
       "        [    60,  42000],\n",
       "        [    39,  59000],\n",
       "        [    46,  41000],\n",
       "        [    51,  23000],\n",
       "        [    50,  20000],\n",
       "        [    36,  33000],\n",
       "        [    49,  36000]]),\n",
       " array([0, 0, 0, 0, 0, 0, 0, 1, 0, 0, 0, 0, 0, 0, 0, 0, 1, 1, 1, 1, 1, 1,\n",
       "        1, 1, 1, 1, 1, 1, 0, 0, 0, 1, 0, 0, 0, 0, 0, 0, 0, 0, 0, 0, 0, 0,\n",
       "        0, 0, 0, 0, 1, 0, 0, 0, 0, 0, 0, 0, 0, 0, 0, 0, 0, 0, 0, 1, 0, 0,\n",
       "        0, 0, 0, 0, 0, 0, 0, 0, 0, 1, 0, 0, 0, 0, 0, 0, 0, 0, 0, 1, 0, 0,\n",
       "        0, 0, 0, 0, 0, 0, 0, 0, 0, 1, 0, 0, 0, 0, 0, 1, 0, 0, 0, 0, 0, 0,\n",
       "        0, 0, 0, 0, 0, 0, 0, 0, 0, 0, 0, 0, 0, 0, 0, 0, 0, 0, 0, 0, 0, 0,\n",
       "        0, 0, 0, 0, 0, 1, 0, 0, 0, 0, 0, 0, 0, 0, 1, 0, 0, 0, 0, 0, 0, 0,\n",
       "        0, 0, 0, 0, 0, 1, 1, 0, 0, 0, 0, 0, 0, 0, 1, 0, 0, 0, 0, 0, 0, 0,\n",
       "        0, 0, 0, 0, 0, 0, 1, 0, 0, 0, 0, 0, 0, 0, 0, 0, 0, 0, 0, 0, 0, 0,\n",
       "        0, 0, 0, 0, 1, 0, 1, 0, 1, 0, 1, 0, 1, 1, 0, 0, 0, 1, 0, 0, 0, 1,\n",
       "        0, 1, 1, 1, 0, 0, 1, 1, 0, 1, 1, 0, 1, 1, 0, 1, 0, 0, 0, 1, 1, 0,\n",
       "        1, 1, 0, 1, 0, 1, 0, 1, 0, 0, 1, 1, 0, 1, 0, 0, 1, 1, 0, 1, 1, 0,\n",
       "        1, 1, 0, 0, 1, 0, 0, 1, 1, 1, 1, 1, 0, 1, 1, 1, 1, 0, 1, 1, 0, 1,\n",
       "        0, 1, 0, 1, 1, 1, 1, 0, 0, 0, 1, 1, 0, 1, 1, 1, 1, 1, 0, 0, 0, 1,\n",
       "        1, 0, 0, 1, 0, 1, 0, 1, 1, 0, 1, 0, 1, 1, 0, 1, 1, 0, 0, 0, 1, 1,\n",
       "        0, 1, 0, 0, 1, 0, 1, 0, 0, 1, 1, 0, 0, 1, 1, 0, 1, 1, 0, 0, 1, 0,\n",
       "        1, 0, 1, 1, 1, 0, 1, 0, 1, 1, 1, 0, 1, 1, 1, 1, 0, 1, 1, 1, 0, 1,\n",
       "        0, 1, 0, 0, 1, 1, 0, 1, 1, 1, 1, 1, 1, 0, 1, 1, 1, 1, 1, 1, 0, 1,\n",
       "        1, 1, 0, 1]))"
      ]
     },
     "execution_count": 6,
     "metadata": {},
     "output_type": "execute_result"
    }
   ],
   "source": [
    "X,Y"
   ]
  },
  {
   "cell_type": "code",
   "execution_count": 7,
   "id": "525f8425",
   "metadata": {
    "execution": {
     "iopub.execute_input": "2023-01-07T16:14:43.474479Z",
     "iopub.status.busy": "2023-01-07T16:14:43.474007Z",
     "iopub.status.idle": "2023-01-07T16:14:44.575019Z",
     "shell.execute_reply": "2023-01-07T16:14:44.573834Z"
    },
    "id": "XNluz6IftOwY",
    "papermill": {
     "duration": 1.112003,
     "end_time": "2023-01-07T16:14:44.577965",
     "exception": false,
     "start_time": "2023-01-07T16:14:43.465962",
     "status": "completed"
    },
    "tags": []
   },
   "outputs": [],
   "source": [
    "from sklearn.model_selection import train_test_split"
   ]
  },
  {
   "cell_type": "code",
   "execution_count": 8,
   "id": "7450484d",
   "metadata": {
    "execution": {
     "iopub.execute_input": "2023-01-07T16:14:44.596169Z",
     "iopub.status.busy": "2023-01-07T16:14:44.595346Z",
     "iopub.status.idle": "2023-01-07T16:14:44.601696Z",
     "shell.execute_reply": "2023-01-07T16:14:44.600628Z"
    },
    "id": "C9r9rMrStdBM",
    "papermill": {
     "duration": 0.018726,
     "end_time": "2023-01-07T16:14:44.604061",
     "exception": false,
     "start_time": "2023-01-07T16:14:44.585335",
     "status": "completed"
    },
    "tags": []
   },
   "outputs": [],
   "source": [
    "X_train,X_test,Y_train,Y_test = train_test_split(X,Y,test_size=0.25,random_state=0)"
   ]
  },
  {
   "cell_type": "code",
   "execution_count": 9,
   "id": "a97d8762",
   "metadata": {
    "execution": {
     "iopub.execute_input": "2023-01-07T16:14:44.620753Z",
     "iopub.status.busy": "2023-01-07T16:14:44.620343Z",
     "iopub.status.idle": "2023-01-07T16:14:44.625534Z",
     "shell.execute_reply": "2023-01-07T16:14:44.624331Z"
    },
    "id": "vQH40nhHvm5p",
    "papermill": {
     "duration": 0.016485,
     "end_time": "2023-01-07T16:14:44.627940",
     "exception": false,
     "start_time": "2023-01-07T16:14:44.611455",
     "status": "completed"
    },
    "tags": []
   },
   "outputs": [],
   "source": [
    "from sklearn.preprocessing import StandardScaler"
   ]
  },
  {
   "cell_type": "code",
   "execution_count": 10,
   "id": "a3749a02",
   "metadata": {
    "execution": {
     "iopub.execute_input": "2023-01-07T16:14:44.644302Z",
     "iopub.status.busy": "2023-01-07T16:14:44.643555Z",
     "iopub.status.idle": "2023-01-07T16:14:44.647715Z",
     "shell.execute_reply": "2023-01-07T16:14:44.646881Z"
    },
    "id": "jDPf0PXhwgIv",
    "papermill": {
     "duration": 0.014639,
     "end_time": "2023-01-07T16:14:44.649779",
     "exception": false,
     "start_time": "2023-01-07T16:14:44.635140",
     "status": "completed"
    },
    "tags": []
   },
   "outputs": [],
   "source": [
    "sc  = StandardScaler"
   ]
  },
  {
   "cell_type": "code",
   "execution_count": 11,
   "id": "bad9d3db",
   "metadata": {
    "execution": {
     "iopub.execute_input": "2023-01-07T16:14:44.666023Z",
     "iopub.status.busy": "2023-01-07T16:14:44.665280Z",
     "iopub.status.idle": "2023-01-07T16:14:44.669741Z",
     "shell.execute_reply": "2023-01-07T16:14:44.668934Z"
    },
    "id": "4CPRJiZqwkme",
    "papermill": {
     "duration": 0.015214,
     "end_time": "2023-01-07T16:14:44.672029",
     "exception": false,
     "start_time": "2023-01-07T16:14:44.656815",
     "status": "completed"
    },
    "tags": []
   },
   "outputs": [],
   "source": [
    "X_train = sc.fit_transform=(X_train)"
   ]
  },
  {
   "cell_type": "code",
   "execution_count": 12,
   "id": "9ddf2a11",
   "metadata": {
    "execution": {
     "iopub.execute_input": "2023-01-07T16:14:44.688084Z",
     "iopub.status.busy": "2023-01-07T16:14:44.687678Z",
     "iopub.status.idle": "2023-01-07T16:14:44.691679Z",
     "shell.execute_reply": "2023-01-07T16:14:44.690875Z"
    },
    "id": "xM1Fprs3wznt",
    "papermill": {
     "duration": 0.01483,
     "end_time": "2023-01-07T16:14:44.694002",
     "exception": false,
     "start_time": "2023-01-07T16:14:44.679172",
     "status": "completed"
    },
    "tags": []
   },
   "outputs": [],
   "source": [
    "X_test = sc.fit_transform=(X_test)"
   ]
  },
  {
   "cell_type": "code",
   "execution_count": 13,
   "id": "711638d0",
   "metadata": {
    "execution": {
     "iopub.execute_input": "2023-01-07T16:14:44.710259Z",
     "iopub.status.busy": "2023-01-07T16:14:44.709880Z",
     "iopub.status.idle": "2023-01-07T16:14:44.714113Z",
     "shell.execute_reply": "2023-01-07T16:14:44.713046Z"
    },
    "id": "F_pzr3pat2uS",
    "papermill": {
     "duration": 0.015357,
     "end_time": "2023-01-07T16:14:44.716523",
     "exception": false,
     "start_time": "2023-01-07T16:14:44.701166",
     "status": "completed"
    },
    "tags": []
   },
   "outputs": [],
   "source": [
    "# gini - impurity\n",
    "# purchased -- output\n",
    "# person - buy = 1 or not = 0\n",
    "# purely -- one class \n",
    "# class - 0 & 1 "
   ]
  },
  {
   "cell_type": "code",
   "execution_count": 14,
   "id": "4abc988d",
   "metadata": {
    "execution": {
     "iopub.execute_input": "2023-01-07T16:14:44.732577Z",
     "iopub.status.busy": "2023-01-07T16:14:44.732169Z",
     "iopub.status.idle": "2023-01-07T16:14:44.897580Z",
     "shell.execute_reply": "2023-01-07T16:14:44.896499Z"
    },
    "id": "HfEkrprluwim",
    "papermill": {
     "duration": 0.176586,
     "end_time": "2023-01-07T16:14:44.900381",
     "exception": false,
     "start_time": "2023-01-07T16:14:44.723795",
     "status": "completed"
    },
    "tags": []
   },
   "outputs": [],
   "source": [
    "from sklearn.tree import DecisionTreeClassifier"
   ]
  },
  {
   "cell_type": "code",
   "execution_count": 15,
   "id": "465e0d48",
   "metadata": {
    "execution": {
     "iopub.execute_input": "2023-01-07T16:14:44.917538Z",
     "iopub.status.busy": "2023-01-07T16:14:44.916428Z",
     "iopub.status.idle": "2023-01-07T16:14:44.922259Z",
     "shell.execute_reply": "2023-01-07T16:14:44.921232Z"
    },
    "id": "ERYqacXeu8Nz",
    "papermill": {
     "duration": 0.017048,
     "end_time": "2023-01-07T16:14:44.924884",
     "exception": false,
     "start_time": "2023-01-07T16:14:44.907836",
     "status": "completed"
    },
    "tags": []
   },
   "outputs": [],
   "source": [
    "dtclr = DecisionTreeClassifier(criterion='gini', splitter='random', random_state=0)\n"
   ]
  },
  {
   "cell_type": "code",
   "execution_count": 16,
   "id": "c0da2d96",
   "metadata": {
    "execution": {
     "iopub.execute_input": "2023-01-07T16:14:44.942347Z",
     "iopub.status.busy": "2023-01-07T16:14:44.941514Z",
     "iopub.status.idle": "2023-01-07T16:14:44.952135Z",
     "shell.execute_reply": "2023-01-07T16:14:44.951094Z"
    },
    "id": "1KKfH2KjyAMi",
    "outputId": "e7fa91ee-3f25-42da-c9e5-065007145181",
    "papermill": {
     "duration": 0.02209,
     "end_time": "2023-01-07T16:14:44.954423",
     "exception": false,
     "start_time": "2023-01-07T16:14:44.932333",
     "status": "completed"
    },
    "tags": []
   },
   "outputs": [
    {
     "data": {
      "text/plain": [
       "DecisionTreeClassifier(random_state=0, splitter='random')"
      ]
     },
     "execution_count": 16,
     "metadata": {},
     "output_type": "execute_result"
    }
   ],
   "source": [
    "dtclr.fit (X_train,Y_train)"
   ]
  },
  {
   "cell_type": "code",
   "execution_count": 17,
   "id": "efdf0699",
   "metadata": {
    "execution": {
     "iopub.execute_input": "2023-01-07T16:14:44.971524Z",
     "iopub.status.busy": "2023-01-07T16:14:44.970700Z",
     "iopub.status.idle": "2023-01-07T16:14:44.975868Z",
     "shell.execute_reply": "2023-01-07T16:14:44.974951Z"
    },
    "id": "LdjKAHJDyVyq",
    "papermill": {
     "duration": 0.016029,
     "end_time": "2023-01-07T16:14:44.977967",
     "exception": false,
     "start_time": "2023-01-07T16:14:44.961938",
     "status": "completed"
    },
    "tags": []
   },
   "outputs": [],
   "source": [
    "Y_pred  = dtclr.predict(X_test)"
   ]
  },
  {
   "cell_type": "code",
   "execution_count": 18,
   "id": "f644edcc",
   "metadata": {
    "execution": {
     "iopub.execute_input": "2023-01-07T16:14:44.994677Z",
     "iopub.status.busy": "2023-01-07T16:14:44.994076Z",
     "iopub.status.idle": "2023-01-07T16:14:44.999129Z",
     "shell.execute_reply": "2023-01-07T16:14:44.998210Z"
    },
    "id": "uku8Fx4pypE7",
    "outputId": "e0166db8-bbcf-4d29-e050-493c36077d89",
    "papermill": {
     "duration": 0.016833,
     "end_time": "2023-01-07T16:14:45.002171",
     "exception": false,
     "start_time": "2023-01-07T16:14:44.985338",
     "status": "completed"
    },
    "tags": []
   },
   "outputs": [
    {
     "name": "stdout",
     "output_type": "stream",
     "text": [
      "[0 0 0 0 0 0 0 1 0 0 0 0 0 1 0 1 1 0 0 0 0 0 0 1 0 1 0 0 0 0 0 0 1 0 0 0 0\n",
      " 0 0 1 0 0 0 0 0 0 0 1 0 1 1 0 0 0 1 1 0 0 1 0 0 1 0 1 0 1 0 0 0 1 1 0 0 1\n",
      " 0 0 0 0 1 1 1 1 0 0 1 0 0 1 0 0 0 1 0 0 0 1 0 1 1 1]\n"
     ]
    }
   ],
   "source": [
    "print(Y_pred)"
   ]
  },
  {
   "cell_type": "code",
   "execution_count": 19,
   "id": "a95bcdc5",
   "metadata": {
    "execution": {
     "iopub.execute_input": "2023-01-07T16:14:45.019645Z",
     "iopub.status.busy": "2023-01-07T16:14:45.019255Z",
     "iopub.status.idle": "2023-01-07T16:14:45.024957Z",
     "shell.execute_reply": "2023-01-07T16:14:45.023784Z"
    },
    "id": "YTJs8CIsyvnj",
    "outputId": "1124c244-4c4a-4c06-9b11-999aba59d827",
    "papermill": {
     "duration": 0.017942,
     "end_time": "2023-01-07T16:14:45.028150",
     "exception": false,
     "start_time": "2023-01-07T16:14:45.010208",
     "status": "completed"
    },
    "tags": []
   },
   "outputs": [
    {
     "name": "stdout",
     "output_type": "stream",
     "text": [
      "[0 0 0 0 0 0 0 1 0 0 0 0 0 0 0 0 0 0 1 0 0 1 0 1 0 1 0 0 0 0 0 1 1 0 0 0 0\n",
      " 0 0 1 0 0 0 0 1 0 0 1 0 1 1 0 0 0 1 1 0 0 1 0 0 1 0 1 0 1 0 0 0 0 1 0 0 1\n",
      " 0 0 0 0 1 1 1 0 0 0 1 1 0 1 1 0 0 1 0 0 0 1 0 1 1 1]\n"
     ]
    }
   ],
   "source": [
    "print(Y_test)"
   ]
  },
  {
   "cell_type": "code",
   "execution_count": 20,
   "id": "c34dcdc8",
   "metadata": {
    "execution": {
     "iopub.execute_input": "2023-01-07T16:14:45.045825Z",
     "iopub.status.busy": "2023-01-07T16:14:45.045407Z",
     "iopub.status.idle": "2023-01-07T16:14:45.050357Z",
     "shell.execute_reply": "2023-01-07T16:14:45.049052Z"
    },
    "id": "jEtt4Fe0y4dU",
    "papermill": {
     "duration": 0.016529,
     "end_time": "2023-01-07T16:14:45.052622",
     "exception": false,
     "start_time": "2023-01-07T16:14:45.036093",
     "status": "completed"
    },
    "tags": []
   },
   "outputs": [],
   "source": [
    "from sklearn.metrics import accuracy_score , confusion_matrix"
   ]
  },
  {
   "cell_type": "code",
   "execution_count": 21,
   "id": "10e2834c",
   "metadata": {
    "execution": {
     "iopub.execute_input": "2023-01-07T16:14:45.071274Z",
     "iopub.status.busy": "2023-01-07T16:14:45.070232Z",
     "iopub.status.idle": "2023-01-07T16:14:45.077138Z",
     "shell.execute_reply": "2023-01-07T16:14:45.075914Z"
    },
    "id": "uuUxCoqx0Qsq",
    "outputId": "1fbaeb0d-d929-4d28-b415-8e1a9808a492",
    "papermill": {
     "duration": 0.019325,
     "end_time": "2023-01-07T16:14:45.079741",
     "exception": false,
     "start_time": "2023-01-07T16:14:45.060416",
     "status": "completed"
    },
    "tags": []
   },
   "outputs": [
    {
     "name": "stdout",
     "output_type": "stream",
     "text": [
      "AccuracyScore: 0.89\n"
     ]
    }
   ],
   "source": [
    "print(\"AccuracyScore:\" , accuracy_score (Y_test , Y_pred))"
   ]
  },
  {
   "cell_type": "code",
   "execution_count": 22,
   "id": "29a5e6a2",
   "metadata": {
    "execution": {
     "iopub.execute_input": "2023-01-07T16:14:45.097531Z",
     "iopub.status.busy": "2023-01-07T16:14:45.097125Z",
     "iopub.status.idle": "2023-01-07T16:14:45.104769Z",
     "shell.execute_reply": "2023-01-07T16:14:45.103660Z"
    },
    "id": "jVLVXUlFGbrD",
    "papermill": {
     "duration": 0.01897,
     "end_time": "2023-01-07T16:14:45.107059",
     "exception": false,
     "start_time": "2023-01-07T16:14:45.088089",
     "status": "completed"
    },
    "tags": []
   },
   "outputs": [],
   "source": [
    "cf = confusion_matrix(Y_test,Y_pred)"
   ]
  },
  {
   "cell_type": "code",
   "execution_count": 23,
   "id": "b49ef186",
   "metadata": {
    "execution": {
     "iopub.execute_input": "2023-01-07T16:14:45.124630Z",
     "iopub.status.busy": "2023-01-07T16:14:45.124246Z",
     "iopub.status.idle": "2023-01-07T16:14:45.129451Z",
     "shell.execute_reply": "2023-01-07T16:14:45.128400Z"
    },
    "id": "Ejm-CUmZ6sNs",
    "outputId": "9770c528-7699-4904-f2ac-2770859755e4",
    "papermill": {
     "duration": 0.017254,
     "end_time": "2023-01-07T16:14:45.132167",
     "exception": false,
     "start_time": "2023-01-07T16:14:45.114913",
     "status": "completed"
    },
    "tags": []
   },
   "outputs": [
    {
     "name": "stdout",
     "output_type": "stream",
     "text": [
      "[[63  5]\n",
      " [ 6 26]]\n"
     ]
    }
   ],
   "source": [
    "print(cf)"
   ]
  },
  {
   "cell_type": "code",
   "execution_count": 24,
   "id": "dc729253",
   "metadata": {
    "execution": {
     "iopub.execute_input": "2023-01-07T16:14:45.150929Z",
     "iopub.status.busy": "2023-01-07T16:14:45.150521Z",
     "iopub.status.idle": "2023-01-07T16:14:45.155063Z",
     "shell.execute_reply": "2023-01-07T16:14:45.153644Z"
    },
    "id": "BDQtVNbk6wph",
    "papermill": {
     "duration": 0.016451,
     "end_time": "2023-01-07T16:14:45.157370",
     "exception": false,
     "start_time": "2023-01-07T16:14:45.140919",
     "status": "completed"
    },
    "tags": []
   },
   "outputs": [],
   "source": [
    "# train"
   ]
  },
  {
   "cell_type": "code",
   "execution_count": 25,
   "id": "c839a745",
   "metadata": {
    "execution": {
     "iopub.execute_input": "2023-01-07T16:14:45.175377Z",
     "iopub.status.busy": "2023-01-07T16:14:45.175005Z",
     "iopub.status.idle": "2023-01-07T16:14:45.184359Z",
     "shell.execute_reply": "2023-01-07T16:14:45.183139Z"
    },
    "id": "0bGPw9xf62Go",
    "outputId": "fee4d3a2-b5ef-4f6e-be98-97415d95e20c",
    "papermill": {
     "duration": 0.02116,
     "end_time": "2023-01-07T16:14:45.186621",
     "exception": false,
     "start_time": "2023-01-07T16:14:45.165461",
     "status": "completed"
    },
    "tags": []
   },
   "outputs": [
    {
     "data": {
      "text/plain": [
       "(array([44, 32, 38, 32, 52, 53, 39, 38, 36, 36, 35, 35, 42, 47, 59, 49, 45,\n",
       "        31, 46, 47, 26, 60, 38, 40, 42, 35, 48, 48, 38, 29, 26, 60, 24, 42,\n",
       "        46, 28, 39, 28, 41, 45, 33, 20, 31, 42, 35, 33, 40, 51, 46, 35, 38,\n",
       "        36, 37, 38, 60, 20, 57, 42, 26, 46, 35, 21, 28, 41, 37, 27, 39, 28,\n",
       "        31, 25, 35, 37, 35, 47, 35, 48, 26, 25, 52, 51, 35, 33, 30, 48, 41,\n",
       "        48, 31, 31, 43, 59, 18, 36, 42, 47, 26, 40, 46, 59, 46, 35, 28, 40,\n",
       "        59, 57, 52, 47, 53, 35, 58, 45, 23, 46, 42, 28, 38, 26, 29, 37, 22,\n",
       "        48, 49, 38, 27, 46, 48, 26, 35, 39, 24, 32, 46, 35, 56, 47, 40, 32,\n",
       "        19, 25, 35, 28, 50, 40, 50, 35, 40, 46, 39, 20, 29, 31, 47, 40, 34,\n",
       "        38, 42, 47, 39, 19, 37, 36, 41, 36, 48, 36, 51, 27, 38, 39, 22, 33,\n",
       "        48, 58, 53, 32, 54, 30, 58, 26, 45, 24, 40, 33, 44, 22, 33, 43, 24,\n",
       "        46, 35, 54, 48, 35, 37, 23, 37, 31, 33, 45, 30, 19, 49, 39, 35, 39,\n",
       "        24, 41, 29, 54, 35, 37, 29, 31, 42, 30, 52, 50, 56, 29, 30, 26, 33,\n",
       "        41, 36, 55, 48, 41, 30, 37, 41, 58, 30, 20, 37, 41, 49, 28, 53, 40,\n",
       "        60, 35, 21, 38, 39, 37, 26, 35, 54, 30, 39, 29, 33, 35, 41, 41, 39,\n",
       "        27, 21, 26, 31, 39, 41, 47, 41, 37, 60, 25, 28, 38, 36, 20, 56, 40,\n",
       "        42, 20, 40, 47, 18, 35, 57, 34, 49, 27, 19, 39, 26, 25, 28, 55, 50,\n",
       "        49, 52, 35, 42, 34, 37, 48, 29, 36, 27, 26]),\n",
       " array([ 39000, 120000,  50000, 135000,  21000, 104000,  42000,  61000,\n",
       "         50000,  63000,  25000,  50000,  73000,  49000,  29000,  65000,\n",
       "        131000,  89000,  82000,  51000,  15000, 102000, 112000, 107000,\n",
       "         53000,  59000,  41000, 134000, 113000, 148000,  15000,  42000,\n",
       "         19000, 149000,  96000,  59000,  96000,  89000,  72000,  26000,\n",
       "         69000,  82000,  74000,  80000,  72000, 149000,  71000, 146000,\n",
       "         79000,  75000,  51000,  75000,  78000,  61000, 108000,  82000,\n",
       "         74000,  65000,  80000, 117000,  61000,  68000,  44000,  87000,\n",
       "         33000,  90000,  42000, 123000, 118000,  87000,  71000,  70000,\n",
       "         39000,  23000, 147000, 138000,  86000,  79000, 138000,  23000,\n",
       "         60000, 113000, 107000,  33000,  80000,  96000,  18000,  71000,\n",
       "        129000,  76000,  44000, 118000,  90000,  30000,  43000,  78000,\n",
       "         59000,  42000,  74000,  91000,  59000,  57000, 143000,  26000,\n",
       "         38000, 113000, 143000,  27000, 101000,  45000,  82000,  23000,\n",
       "         65000,  84000,  59000,  84000,  28000,  71000,  55000,  35000,\n",
       "         28000,  65000,  17000,  28000, 141000,  17000,  97000,  59000,\n",
       "         27000,  18000,  88000,  58000,  60000,  34000,  72000, 100000,\n",
       "         21000,  90000,  88000,  32000,  20000,  59000,  44000,  72000,\n",
       "        142000,  32000,  71000,  74000,  75000,  76000,  25000,  61000,\n",
       "        112000,  80000,  75000,  47000,  75000,  25000,  80000,  60000,\n",
       "         52000, 125000,  29000, 126000, 134000,  57000,  71000,  61000,\n",
       "         27000,  60000,  74000,  23000,  72000, 117000,  70000,  80000,\n",
       "         95000,  52000,  79000,  55000,  75000,  28000, 139000,  18000,\n",
       "         51000, 133000,  32000,  22000,  55000, 104000, 119000,  53000,\n",
       "        144000,  66000, 137000,  58000,  41000,  22000,  15000,  19000,\n",
       "         74000, 122000,  73000,  71000,  23000,  72000,  83000,  26000,\n",
       "         44000,  75000,  47000,  68000,  54000, 135000, 114000,  36000,\n",
       "        133000,  61000,  89000,  16000,  31000,  72000,  33000, 125000,\n",
       "        131000,  71000,  62000,  72000,  63000,  47000, 116000,  49000,\n",
       "         74000,  59000,  89000,  79000,  82000,  57000,  34000, 108000,\n",
       "         72000,  71000, 106000,  57000,  72000,  23000, 108000,  17000,\n",
       "        134000,  43000,  43000,  38000,  45000,  72000, 134000, 137000,\n",
       "         16000,  32000,  66000,  73000,  79000,  50000,  30000,  93000,\n",
       "         46000,  22000,  37000,  55000,  54000,  36000, 104000,  57000,\n",
       "        108000,  23000,  65000,  20000,  86000,  79000,  33000,  72000,\n",
       "         39000,  31000,  70000,  79000,  81000,  80000,  85000,  39000,\n",
       "         88000,  88000, 150000,  65000,  54000,  43000,  52000,  30000,\n",
       "         43000,  52000,  54000, 118000]))"
      ]
     },
     "execution_count": 25,
     "metadata": {},
     "output_type": "execute_result"
    }
   ],
   "source": [
    "X = X_train[:,0]\n",
    "Y = X_train[:,1]\n",
    "X,Y"
   ]
  },
  {
   "cell_type": "code",
   "execution_count": 26,
   "id": "244879a9",
   "metadata": {
    "execution": {
     "iopub.execute_input": "2023-01-07T16:14:45.205628Z",
     "iopub.status.busy": "2023-01-07T16:14:45.204763Z",
     "iopub.status.idle": "2023-01-07T16:14:45.451212Z",
     "shell.execute_reply": "2023-01-07T16:14:45.450008Z"
    },
    "id": "TFmBTw9-7FVQ",
    "outputId": "5e722885-2769-4552-f42c-2652610c9870",
    "papermill": {
     "duration": 0.258856,
     "end_time": "2023-01-07T16:14:45.453839",
     "exception": false,
     "start_time": "2023-01-07T16:14:45.194983",
     "status": "completed"
    },
    "tags": []
   },
   "outputs": [
    {
     "data": {
      "text/plain": [
       "<matplotlib.collections.PathCollection at 0x7f017dad8cd0>"
      ]
     },
     "execution_count": 26,
     "metadata": {},
     "output_type": "execute_result"
    },
    {
     "data": {
      "image/png": "[encoded data removed]",
      "text/plain": [
       "<Figure size 432x288 with 1 Axes>"
      ]
     },
     "metadata": {
      "needs_background": "light"
     },
     "output_type": "display_data"
    }
   ],
   "source": [
    "c=Y_train\n",
    "import matplotlib.pyplot as plt\n",
    "plt.scatter(X,Y,c=c)"
   ]
  },
  {
   "cell_type": "code",
   "execution_count": 27,
   "id": "761f2c5c",
   "metadata": {
    "execution": {
     "iopub.execute_input": "2023-01-07T16:14:45.475681Z",
     "iopub.status.busy": "2023-01-07T16:14:45.474827Z",
     "iopub.status.idle": "2023-01-07T16:14:45.479638Z",
     "shell.execute_reply": "2023-01-07T16:14:45.478523Z"
    },
    "id": "SK1oaksr7e-W",
    "papermill": {
     "duration": 0.018311,
     "end_time": "2023-01-07T16:14:45.482190",
     "exception": false,
     "start_time": "2023-01-07T16:14:45.463879",
     "status": "completed"
    },
    "tags": []
   },
   "outputs": [],
   "source": [
    "# test "
   ]
  },
  {
   "cell_type": "code",
   "execution_count": 28,
   "id": "3e44a66b",
   "metadata": {
    "execution": {
     "iopub.execute_input": "2023-01-07T16:14:45.503919Z",
     "iopub.status.busy": "2023-01-07T16:14:45.502975Z",
     "iopub.status.idle": "2023-01-07T16:14:45.706130Z",
     "shell.execute_reply": "2023-01-07T16:14:45.704949Z"
    },
    "id": "llwRhaBX7_Q8",
    "outputId": "90f75cad-56cc-4b71-b075-c4a263b82cb1",
    "papermill": {
     "duration": 0.216311,
     "end_time": "2023-01-07T16:14:45.708567",
     "exception": false,
     "start_time": "2023-01-07T16:14:45.492256",
     "status": "completed"
    },
    "tags": []
   },
   "outputs": [
    {
     "data": {
      "text/plain": [
       "<matplotlib.collections.PathCollection at 0x7f017b9fefd0>"
      ]
     },
     "execution_count": 28,
     "metadata": {},
     "output_type": "execute_result"
    },
    {
     "data": {
      "image/png": "[encoded data removed]",
      "text/plain": [
       "<Figure size 432x288 with 1 Axes>"
      ]
     },
     "metadata": {
      "needs_background": "light"
     },
     "output_type": "display_data"
    }
   ],
   "source": [
    "X = X_test[:,0]\n",
    "Y = X_test[:,1]\n",
    "X,Y\n",
    "c=Y_test\n",
    "plt.scatter (X,Y,c=c)"
   ]
  },
  {
   "cell_type": "code",
   "execution_count": 29,
   "id": "5c3e05d4",
   "metadata": {
    "execution": {
     "iopub.execute_input": "2023-01-07T16:14:45.731213Z",
     "iopub.status.busy": "2023-01-07T16:14:45.730777Z",
     "iopub.status.idle": "2023-01-07T16:14:45.928041Z",
     "shell.execute_reply": "2023-01-07T16:14:45.926856Z"
    },
    "id": "8vupDi4e8YST",
    "outputId": "e9c3e2cd-4293-4900-adbb-a39340b4c522",
    "papermill": {
     "duration": 0.211206,
     "end_time": "2023-01-07T16:14:45.930250",
     "exception": false,
     "start_time": "2023-01-07T16:14:45.719044",
     "status": "completed"
    },
    "tags": []
   },
   "outputs": [
    {
     "data": {
      "text/plain": [
       "<matplotlib.collections.PathCollection at 0x7f017b906fd0>"
      ]
     },
     "execution_count": 29,
     "metadata": {},
     "output_type": "execute_result"
    },
    {
     "data": {
      "image/png": "[encoded data removed]",
      "text/plain": [
       "<Figure size 432x288 with 1 Axes>"
      ]
     },
     "metadata": {
      "needs_background": "light"
     },
     "output_type": "display_data"
    }
   ],
   "source": [
    "X = X_test [:,0]\n",
    "Y\n",
    "X,Y\n",
    "c=Y_pred\n",
    "plt.scatter (X,Y,c=c)"
   ]
  }
 ],
 "metadata": {
  "kernelspec": {
   "display_name": "Python 3",
   "language": "python",
   "name": "python3"
  },
  "language_info": {
   "codemirror_mode": {
    "name": "ipython",
    "version": 3
   },
   "file_extension": ".py",
   "mimetype": "text/x-python",
   "name": "python",
   "nbconvert_exporter": "python",
   "pygments_lexer": "ipython3",
   "version": "3.7.12"
  },
  "papermill": {
   "default_parameters": {},
   "duration": 12.40797,
   "end_time": "2023-01-07T16:14:46.662481",
   "environment_variables": {},
   "exception": null,
   "input_path": "__notebook__.ipynb",
   "output_path": "__notebook__.ipynb",
   "parameters": {},
   "start_time": "2023-01-07T16:14:34.254511",
   "version": "2.3.4"
  }
 },
 "nbformat": 4,
 "nbformat_minor": 5
}
